{
 "cells": [
  {
   "cell_type": "markdown",
   "metadata": {},
   "source": [
    " An RDD is just a collection of records that represents data whick is kept in memory\n",
    " \n",
    " All operations that create RDD'S or convert RDD's into other RDD's are called Transformations\n",
    " \n",
    " Operations that request for a result from the RDD are called Actions (collect, take, first)\n",
    " \n",
    " Transformations are not executed immediately. Transformations are only executed after an action has been\n",
    " called on an RDD\n",
    " \n",
    " Nodes are just the individual machines in a cluster\n"
   ]
  },
  {
   "cell_type": "code",
   "execution_count": 1,
   "metadata": {},
   "outputs": [
    {
     "data": {
      "text/html": [
       "\n",
       "        <div>\n",
       "            <p><b>SparkContext</b></p>\n",
       "\n",
       "            <p><a href=\"http://192.168.0.118:4040\">Spark UI</a></p>\n",
       "\n",
       "            <dl>\n",
       "              <dt>Version</dt>\n",
       "                <dd><code>v2.2.1</code></dd>\n",
       "              <dt>Master</dt>\n",
       "                <dd><code>local[*]</code></dd>\n",
       "              <dt>AppName</dt>\n",
       "                <dd><code>PySparkShell</code></dd>\n",
       "            </dl>\n",
       "        </div>\n",
       "        "
      ],
      "text/plain": [
       "<SparkContext master=local[*] appName=PySparkShell>"
      ]
     },
     "execution_count": 1,
     "metadata": {},
     "output_type": "execute_result"
    }
   ],
   "source": [
    "sc "
   ]
  },
  {
   "cell_type": "code",
   "execution_count": 12,
   "metadata": {},
   "outputs": [],
   "source": [
    "# file:// indicates to spark that we are using local file system\n",
    "file_path = \"file:///Users/elsissitati/Downloads/apple.csv\"\n",
    "apple = sc.textFile(file_path)"
   ]
  },
  {
   "cell_type": "code",
   "execution_count": 13,
   "metadata": {},
   "outputs": [
    {
     "data": {
      "text/plain": [
       "file:///Users/elsissitati/Downloads/apple.csv MapPartitionsRDD[10] at textFile at NativeMethodAccessorImpl.java:0"
      ]
     },
     "execution_count": 13,
     "metadata": {},
     "output_type": "execute_result"
    }
   ],
   "source": [
    "apple"
   ]
  },
  {
   "cell_type": "code",
   "execution_count": 14,
   "metadata": {},
   "outputs": [
    {
     "data": {
      "text/plain": [
       "['Date,Open,High,Low,Close,Adj Close,Volume',\n",
       " '2018-01-02,170.160004,172.300003,169.259995,172.259995,172.259995,25555900',\n",
       " '2018-01-03,172.529999,174.550003,171.960007,172.229996,172.229996,29517900',\n",
       " '2018-01-04,172.539993,173.470001,172.080002,173.029999,173.029999,22434600',\n",
       " '2018-01-05,173.440002,175.369995,173.050003,175.000000,175.000000,23660000',\n",
       " '2018-01-08,174.350006,175.610001,173.929993,174.350006,174.350006,20567800',\n",
       " '2018-01-09,174.550003,175.059998,173.410004,174.330002,174.330002,21584000',\n",
       " '2018-01-10,173.160004,174.300003,173.000000,174.289993,174.289993,23959900',\n",
       " '2018-01-11,174.589996,175.490005,174.490005,175.279999,175.279999,18667700',\n",
       " '2018-01-12,176.179993,177.360001,175.649994,177.089996,177.089996,25418100']"
      ]
     },
     "execution_count": 14,
     "metadata": {},
     "output_type": "execute_result"
    }
   ],
   "source": [
    "apple.take(10)"
   ]
  },
  {
   "cell_type": "code",
   "execution_count": 5,
   "metadata": {},
   "outputs": [
    {
     "data": {
      "text/plain": [
       "21"
      ]
     },
     "execution_count": 5,
     "metadata": {},
     "output_type": "execute_result"
    }
   ],
   "source": [
    "apple.count()"
   ]
  },
  {
   "cell_type": "code",
   "execution_count": 6,
   "metadata": {},
   "outputs": [
    {
     "data": {
      "text/plain": [
       "'Date,Open,High,Low,Close,Adj Close,Volume'"
      ]
     },
     "execution_count": 6,
     "metadata": {},
     "output_type": "execute_result"
    }
   ],
   "source": [
    "apple.first()"
   ]
  },
  {
   "cell_type": "code",
   "execution_count": 7,
   "metadata": {},
   "outputs": [
    {
     "data": {
      "text/plain": [
       "['Date,Open,High,Low,Close,Adj Close,Volume',\n",
       " '2018-01-02,170.160004,172.300003,169.259995,172.259995,172.259995,25555900',\n",
       " '2018-01-03,172.529999,174.550003,171.960007,172.229996,172.229996,29517900',\n",
       " '2018-01-04,172.539993,173.470001,172.080002,173.029999,173.029999,22434600',\n",
       " '2018-01-05,173.440002,175.369995,173.050003,175.000000,175.000000,23660000',\n",
       " '2018-01-08,174.350006,175.610001,173.929993,174.350006,174.350006,20567800',\n",
       " '2018-01-09,174.550003,175.059998,173.410004,174.330002,174.330002,21584000',\n",
       " '2018-01-10,173.160004,174.300003,173.000000,174.289993,174.289993,23959900',\n",
       " '2018-01-11,174.589996,175.490005,174.490005,175.279999,175.279999,18667700',\n",
       " '2018-01-12,176.179993,177.360001,175.649994,177.089996,177.089996,25418100',\n",
       " '2018-01-16,177.899994,179.389999,176.139999,176.190002,176.190002,29565900',\n",
       " '2018-01-17,176.149994,179.250000,175.070007,179.100006,179.100006,34386800',\n",
       " '2018-01-18,179.369995,180.100006,178.250000,179.259995,179.259995,31193400',\n",
       " '2018-01-19,178.610001,179.580002,177.410004,178.460007,178.460007,32425100',\n",
       " '2018-01-22,177.300003,177.779999,176.600006,177.000000,177.000000,27108600',\n",
       " '2018-01-23,177.300003,179.440002,176.820007,177.039993,177.039993,32689100',\n",
       " '2018-01-24,177.250000,177.300003,173.199997,174.220001,174.220001,51105100',\n",
       " '2018-01-25,174.509995,174.949997,170.529999,171.110001,171.110001,41529000',\n",
       " '2018-01-26,172.000000,172.000000,170.059998,171.509995,171.509995,39143000',\n",
       " '2018-01-29,170.160004,170.160004,167.070007,167.960007,167.960007,50640400',\n",
       " '2018-01-30,165.529999,167.369995,164.699997,166.970001,166.970001,45396600']"
      ]
     },
     "execution_count": 7,
     "metadata": {},
     "output_type": "execute_result"
    }
   ],
   "source": [
    "apple.collect()"
   ]
  },
  {
   "cell_type": "code",
   "execution_count": null,
   "metadata": {},
   "outputs": [],
   "source": []
  }
 ],
 "metadata": {
  "kernelspec": {
   "display_name": "Python 3",
   "language": "python",
   "name": "python3"
  },
  "language_info": {
   "codemirror_mode": {
    "name": "ipython",
    "version": 3
   },
   "file_extension": ".py",
   "mimetype": "text/x-python",
   "name": "python",
   "nbconvert_exporter": "python",
   "pygments_lexer": "ipython3",
   "version": "3.6.4"
  }
 },
 "nbformat": 4,
 "nbformat_minor": 2
}
